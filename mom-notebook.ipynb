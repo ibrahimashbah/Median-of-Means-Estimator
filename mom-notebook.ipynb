{
 "cells": [
  {
   "cell_type": "markdown",
   "id": "d91c61af",
   "metadata": {},
   "source": [
    "### Task: estimate the average price per product using the Median_of_Means estimator (MoM)\n"
   ]
  },
  {
   "cell_type": "markdown",
   "id": "cbdb4e77",
   "metadata": {},
   "source": [
    "### Importing Necessary Libraries \n"
   ]
  },
  {
   "cell_type": "code",
   "execution_count": null,
   "id": "c6cf9f48",
   "metadata": {},
   "outputs": [],
   "source": [
    "import numpy as np\n",
    "import pandas as pd\n",
    "from time import time"
   ]
  },
  {
   "cell_type": "markdown",
   "id": "181598a5",
   "metadata": {},
   "source": [
    "### Loading Dataset"
   ]
  },
  {
   "cell_type": "code",
   "execution_count": null,
   "id": "940ac720",
   "metadata": {},
   "outputs": [],
   "source": [
    "df = pd.read_csv('question-custom-takehome-project-zpnxbh3x9d-sales.csv')"
   ]
  },
  {
   "cell_type": "markdown",
   "id": "20dea6cb",
   "metadata": {},
   "source": [
    "### Computing Median of Means "
   ]
  },
  {
   "cell_type": "code",
   "execution_count": null,
   "id": "595e6550",
   "metadata": {},
   "outputs": [],
   "source": [
    "start_time = time()  # start time of execution\n",
    "\n",
    "\n",
    "# returns the median of means of given array\n",
    "def median_of_means_estimator(arr, n_chunks):\n",
    "    if n_chunks <= 0:\n",
    "        raise Exception(\"Sorry, number of chunks must me bigger than zero\")\n",
    "    if not type(arr) is np.ndarray:\n",
    "        raise TypeError(\"Only numpy.ndarray are allowed\")\n",
    "    if n_chunks > len(arr):  # preventing the n_chunks > n_observations\n",
    "        n_chunks = int(np.ceil(len(arr) / 2))\n",
    "\n",
    "    # creating shuffled array of int for random selection on arr\n",
    "    shuffler = np.array(list(range(n_chunks)) * int(len(arr)/ n_chunks))\n",
    "    np.random.shuffle(shuffler)\n",
    "\n",
    "    # computing mean per chunk\n",
    "    means = [np.mean(arr[list(np.where(shuffler == chunk)[0])]) for chunk in range(n_chunks)]\n",
    "\n",
    "    # return median\n",
    "    return np.median(means)\n",
    "\n",
    "\n",
    "# slicing dataset into arrays based on proudct_id\n",
    "sliced = [y for (x, y) in df.groupby('product_id')]\n",
    "\n",
    "# creating dataframe to display the computed MoM per product\n",
    "products_mom = pd.DataFrame(columns=['product_id', 'mean', 'median_of_means'])\n",
    "\n",
    "for i in range(len(sliced)):  # iterate over the sliced dataset\n",
    "    mom = median_of_means_estimator(np.array(sliced[i]['price']), 10)  # computing the MoM per product\n",
    "    mean = sliced[i]['price'].mean()\n",
    "\n",
    "    # getting the product id number from the sliced dataset\n",
    "    product_id = int(sliced[i]['product_id'].unique())\n",
    "    products_mom = pd.concat([pd.DataFrame([[product_id, mean, mom]], columns=products_mom.columns), products_mom], ignore_index=True)\n",
    "    \n",
    "# printing out the result\n",
    "display(products_mom.sort_values(by='product_id'))\n",
    "\n",
    "\n",
    "end_time = time()  # end time of execution\n",
    "\n",
    "t1 = end_time - start_time\n",
    "\n",
    "print ('The computation took %s seconds' % t1)\n",
    "## The computation took 0.026923656463623047 seconds ##"
   ]
  },
  {
   "cell_type": "markdown",
   "id": "03f45ea2",
   "metadata": {},
   "source": [
    "### Execution time"
   ]
  },
  {
   "cell_type": "markdown",
   "id": "7eaeef24",
   "metadata": {},
   "source": [
    "#### Over Size"
   ]
  },
  {
   "cell_type": "code",
   "execution_count": null,
   "id": "bd22ad46",
   "metadata": {
    "scrolled": true
   },
   "outputs": [],
   "source": [
    "start_time2 = time()\n",
    "\n",
    "first_population = np.random.standard_t(df=1, size=1000000)\n",
    "print(median_of_means_estimator(first_population, 10))\n",
    "\n",
    "end_time2 = time()\n",
    "\n",
    "t2 = end_time2 - start_time2\n",
    "print ('The computation took %s seconds' % t2)\n",
    "## The computation took 0.45382094383239746 seconds ##"
   ]
  },
  {
   "cell_type": "markdown",
   "id": "7aa42606",
   "metadata": {},
   "source": [
    "#### Over Size and values "
   ]
  },
  {
   "cell_type": "code",
   "execution_count": null,
   "id": "4ba27650",
   "metadata": {},
   "outputs": [],
   "source": [
    "start_time3 = time()\n",
    "\n",
    "second_population= np.random.uniform(0, 1000000, 10000000)\n",
    "print(median_of_means_estimator(second_population, 10))\n",
    "end_time3 = time()\n",
    "\n",
    "t3 = end_time3 - start_time3\n",
    "print ('The computation took %s seconds' % t3)\n",
    "## The computation took 3.2399840354919434 seconds ##"
   ]
  }
 ],
 "metadata": {
  "kernelspec": {
   "display_name": "Python 3 (ipykernel)",
   "language": "python",
   "name": "python3"
  },
  "language_info": {
   "codemirror_mode": {
    "name": "ipython",
    "version": 3
   },
   "file_extension": ".py",
   "mimetype": "text/x-python",
   "name": "python",
   "nbconvert_exporter": "python",
   "pygments_lexer": "ipython3",
   "version": "3.9.7"
  }
 },
 "nbformat": 4,
 "nbformat_minor": 5
}
